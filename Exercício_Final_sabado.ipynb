{
  "nbformat": 4,
  "nbformat_minor": 0,
  "metadata": {
    "colab": {
      "provenance": [],
      "include_colab_link": true
    },
    "kernelspec": {
      "name": "python3",
      "display_name": "Python 3"
    },
    "language_info": {
      "name": "python"
    }
  },
  "cells": [
    {
      "cell_type": "markdown",
      "metadata": {
        "id": "view-in-github",
        "colab_type": "text"
      },
      "source": [
        "<a href=\"https://colab.research.google.com/github/Katiaacioli/ExercCiclo11/blob/main/Exerc%C3%ADcio_Final_sabado.ipynb\" target=\"_parent\"><img src=\"https://colab.research.google.com/assets/colab-badge.svg\" alt=\"Open In Colab\"/></a>"
      ]
    },
    {
      "cell_type": "markdown",
      "source": [
        "# Contagem de Medalhas\n",
        "\n",
        "Crie um programa que receba o número de medalhas de ouro, prata e bronze de um país nas Olimpíadas e calcule o total de medalhas.\n",
        "Quando escrever 'sair', o programa deverá encerrar e mostrar na tela o ranking de medalhas no formato:"
      ],
      "metadata": {
        "id": "RQN1e5FZY6SZ"
      }
    },
    {
      "cell_type": "code",
      "source": [
        "#Ranking de medalhas:\n",
        "#Brasil: 7 medalhas\n",
        "#França: 6 medalhas\n",
        "#Argentina: 3 medalhas"
      ],
      "metadata": {
        "id": "gCq_KLHzZSzb"
      },
      "execution_count": null,
      "outputs": []
    },
    {
      "cell_type": "code",
      "execution_count": 8,
      "metadata": {
        "id": "AJJhjxiPTd5s",
        "outputId": "090c3023-3b45-4f42-9bac-fc8246d45737",
        "colab": {
          "base_uri": "https://localhost:8080/"
        }
      },
      "outputs": [
        {
          "output_type": "stream",
          "name": "stdout",
          "text": [
            "Digite o nome do país (ou 'sair' para encerrar): brasil\n",
            "Número de medalhas de ouro: 5\n",
            "Número de medalhas de prata: 9\n",
            "Número de medalhas de bronze: 1\n",
            "Digite o nome do país (ou 'sair' para encerrar): japão \n",
            "Número de medalhas de ouro: 5\n",
            "Número de medalhas de prata: 7\n",
            "Número de medalhas de bronze: 3\n",
            "Digite o nome do país (ou 'sair' para encerrar): sair\n",
            "\n",
            "Ranking de medalhas:\n",
            "brasil: 15 medalhas\n",
            "japão : 15 medalhas\n"
          ]
        }
      ],
      "source": [
        "# Resposta aqui\n",
        "medalhas_por_pais = {}\n",
        "\n",
        "while True:\n",
        "    pais = input(\"Digite o nome do país (ou 'sair' para encerrar): \")\n",
        "    if pais.lower() == 'sair':\n",
        "        break\n",
        "\n",
        "    ouro = int(input(\"Número de medalhas de ouro: \"))\n",
        "    prata = int(input(\"Número de medalhas de prata: \"))\n",
        "    bronze = int(input(\"Número de medalhas de bronze: \"))\n",
        "\n",
        "    total_medalhas = ouro + prata + bronze\n",
        "\n",
        "    medalhas_por_pais[pais] = total_medalhas\n",
        "\n",
        "ranking = sorted(medalhas_por_pais.items(), key=lambda x: x[1], reverse=True)\n",
        "\n",
        "print(\"\\n1Ranking de medalhas:\")\n",
        "for pais, total in ranking:\n",
        "    print(f\"{pais}: {total} medalhas\")\n"
      ]
    }
  ]
}